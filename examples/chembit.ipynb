{
 "cells": [
  {
   "cell_type": "code",
   "execution_count": 1,
   "metadata": {},
   "outputs": [],
   "source": [
    "from functools import reduce\n",
    "import offsb.chem.types"
   ]
  },
  {
   "cell_type": "markdown",
   "metadata": {},
   "source": [
    "Because hydrogen really only have one bit of information (for our purposes it is always `[#1H0X1x0!rA]`), we turn on an experimental setting which should handle hydrogen as a special case, which has implications for chemical space, bit manipulations, and bit iterating."
   ]
  },
  {
   "cell_type": "code",
   "execution_count": 2,
   "metadata": {},
   "outputs": [],
   "source": [
    "offsb.chem.types.HYDROGEN_ONE_BIT = True"
   ]
  },
  {
   "cell_type": "markdown",
   "metadata": {},
   "source": [
    "### Load the exact same CCH angle SMARTS, but reversed"
   ]
  },
  {
   "cell_type": "code",
   "execution_count": 3,
   "metadata": {},
   "outputs": [],
   "source": [
    "x = offsb.chem.types.AngleGraph.from_smarts(\"[#6H1X4x0!r+0A]-;!@[#6H3X4x0!r+0A]-;!@[#1]\")\n",
    "y = offsb.chem.types.AngleGraph.from_smarts(\"[#1]-;!@[#6H3X4x0!r+0A]-;!@[#6H1X4x0!r+0A]\")"
   ]
  },
  {
   "cell_type": "code",
   "execution_count": 4,
   "metadata": {},
   "outputs": [
    {
     "data": {
      "text/plain": [
       "(S:  1000000 H:  10 X:  10000 x:   1 r:   1 aA:   1) [Order:  10 aA:   1] (S:  1000000 H:  1000 X:  10000 x:   1 r:   1 aA:   1) [Order:  10 aA:   1] (S:  10)"
      ]
     },
     "execution_count": 4,
     "metadata": {},
     "output_type": "execute_result"
    }
   ],
   "source": [
    "x"
   ]
  },
  {
   "cell_type": "code",
   "execution_count": 5,
   "metadata": {},
   "outputs": [
    {
     "data": {
      "text/plain": [
       "'[#6;H1;X4;x0;!r;A:1]-;!@[#6;H3;X4;x0;!r;A:2]-;!@[#1:3]'"
      ]
     },
     "execution_count": 5,
     "metadata": {},
     "output_type": "execute_result"
    }
   ],
   "source": [
    "x.to_smarts()"
   ]
  },
  {
   "cell_type": "code",
   "execution_count": 6,
   "metadata": {},
   "outputs": [
    {
     "data": {
      "text/plain": [
       "(S:  10) [Order:  10 aA:   1] (S:  1000000 H:  1000 X:  10000 x:   1 r:   1 aA:   1) [Order:  10 aA:   1] (S:  1000000 H:  10 X:  10000 x:   1 r:   1 aA:   1)"
      ]
     },
     "execution_count": 6,
     "metadata": {},
     "output_type": "execute_result"
    }
   ],
   "source": [
    "y"
   ]
  },
  {
   "cell_type": "code",
   "execution_count": 7,
   "metadata": {},
   "outputs": [
    {
     "data": {
      "text/plain": [
       "'[#1:1]-;!@[#6;H3;X4;x0;!r;A:2]-;!@[#6;H1;X4;x0;!r;A:3]'"
      ]
     },
     "execution_count": 7,
     "metadata": {},
     "output_type": "execute_result"
    }
   ],
   "source": [
    "y.to_smarts()"
   ]
  },
  {
   "cell_type": "markdown",
   "metadata": {},
   "source": [
    "Equality uses symmetry information, so it will check if ABC == {DEG or GED} "
   ]
  },
  {
   "cell_type": "code",
   "execution_count": 8,
   "metadata": {},
   "outputs": [
    {
     "data": {
      "text/plain": [
       "True"
      ]
     },
     "execution_count": 8,
     "metadata": {},
     "output_type": "execute_result"
    }
   ],
   "source": [
    "x == y"
   ]
  },
  {
   "cell_type": "markdown",
   "metadata": {},
   "source": [
    "Other operations, however, do not use any symmetry. Here we add `x` and `y` together with no shuffling: A + D, B + E, C + G. Note that addition is equivalent to union `x & y`"
   ]
  },
  {
   "cell_type": "code",
   "execution_count": 9,
   "metadata": {},
   "outputs": [
    {
     "data": {
      "text/plain": [
       "(S:  1000010 H:  10 X:  10000 x:   1 r:   1 aA:   1) [Order:  10 aA:   1] (S:  1000000 H:  1000 X:  10000 x:   1 r:   1 aA:   1) [Order:  10 aA:   1] (S:  1000010 H:  10 X:  10000 x:   1 r:   1 aA:   1)"
      ]
     },
     "execution_count": 9,
     "metadata": {},
     "output_type": "execute_result"
    }
   ],
   "source": [
    "xy = x + y ; xy"
   ]
  },
  {
   "cell_type": "markdown",
   "metadata": {},
   "source": [
    "A subtle caveat to this is now the angle encodes HCH, and CCC angles"
   ]
  },
  {
   "cell_type": "code",
   "execution_count": 10,
   "metadata": {},
   "outputs": [
    {
     "data": {
      "text/plain": [
       "'[#6,#1;H1;X4;x0;!r;A:1]-;!@[#6;H3;X4;x0;!r;A:2]-;!@[#6,#1;H1;X4;x0;!r;A:3]'"
      ]
     },
     "execution_count": 10,
     "metadata": {},
     "output_type": "execute_result"
    }
   ],
   "source": [
    "xy.to_smarts()"
   ]
  },
  {
   "cell_type": "code",
   "execution_count": 11,
   "metadata": {},
   "outputs": [
    {
     "name": "stdout",
     "output_type": "stream",
     "text": [
      " 1 [#1:1]-;!@[#6;H3;X4;x0;!r;A:2]-;!@[#1:3]\n",
      " 2 [#6;H1;X4;x0;!r;A:1]-;!@[#6;H3;X4;x0;!r;A:2]-;!@[#1:3]\n",
      " 3 [#6;H1;X4;x0;!r;A:1]-;!@[#6;H3;X4;x0;!r;A:2]-;!@[#6;H1;X4;x0;!r;A:3]\n"
     ]
    }
   ],
   "source": [
    "for i, primitive in enumerate(xy.to_primitives()):\n",
    "    print(f\"{i+1:2d}\", primitive.to_smarts())"
   ]
  },
  {
   "cell_type": "code",
   "execution_count": 12,
   "metadata": {},
   "outputs": [
    {
     "data": {
      "text/plain": [
       "False"
      ]
     },
     "execution_count": 12,
     "metadata": {},
     "output_type": "execute_result"
    }
   ],
   "source": [
    "x == xy"
   ]
  },
  {
   "cell_type": "code",
   "execution_count": 13,
   "metadata": {},
   "outputs": [
    {
     "data": {
      "text/plain": [
       "True"
      ]
     },
     "execution_count": 13,
     "metadata": {},
     "output_type": "execute_result"
    }
   ],
   "source": [
    "x in xy"
   ]
  },
  {
   "cell_type": "code",
   "execution_count": 14,
   "metadata": {},
   "outputs": [
    {
     "data": {
      "text/plain": [
       "True"
      ]
     },
     "execution_count": 14,
     "metadata": {},
     "output_type": "execute_result"
    }
   ],
   "source": [
    "y in xy"
   ]
  },
  {
   "cell_type": "code",
   "execution_count": 15,
   "metadata": {},
   "outputs": [
    {
     "data": {
      "text/plain": [
       "7"
      ]
     },
     "execution_count": 15,
     "metadata": {},
     "output_type": "execute_result"
    }
   ],
   "source": [
    "(x - y).bits()"
   ]
  },
  {
   "cell_type": "code",
   "execution_count": 16,
   "metadata": {},
   "outputs": [
    {
     "data": {
      "text/plain": [
       "(S:  1000000 H:  10 X:  10000 x:   1 r:   1 aA:   1) [Order:   0 aA:   0] (S:   0 H:   0 X:   0 x:   0 r:   0 aA:   0) [Order:   0 aA:   0] (S:  10)"
      ]
     },
     "execution_count": 16,
     "metadata": {},
     "output_type": "execute_result"
    }
   ],
   "source": [
    "x-y"
   ]
  },
  {
   "cell_type": "markdown",
   "metadata": {},
   "source": [
    "We can align the angles, meaning it tries to overlap as many bits as possible. It modifies `x` in place."
   ]
  },
  {
   "cell_type": "code",
   "execution_count": 17,
   "metadata": {},
   "outputs": [
    {
     "data": {
      "text/plain": [
       "(S:  10) [Order:  10 aA:   1] (S:  1000000 H:  1000 X:  10000 x:   1 r:   1 aA:   1) [Order:  10 aA:   1] (S:  1000000 H:  10 X:  10000 x:   1 r:   1 aA:   1)"
      ]
     },
     "execution_count": 17,
     "metadata": {},
     "output_type": "execute_result"
    }
   ],
   "source": [
    "x.align_to(y) ; x"
   ]
  },
  {
   "cell_type": "code",
   "execution_count": 18,
   "metadata": {},
   "outputs": [
    {
     "data": {
      "text/plain": [
       "0"
      ]
     },
     "execution_count": 18,
     "metadata": {},
     "output_type": "execute_result"
    }
   ],
   "source": [
    "(x - y).bits()"
   ]
  },
  {
   "cell_type": "code",
   "execution_count": 19,
   "metadata": {},
   "outputs": [
    {
     "data": {
      "text/plain": [
       "True"
      ]
     },
     "execution_count": 19,
     "metadata": {},
     "output_type": "execute_result"
    }
   ],
   "source": [
    "x == x + y"
   ]
  },
  {
   "cell_type": "code",
   "execution_count": 20,
   "metadata": {},
   "outputs": [
    {
     "data": {
      "text/plain": [
       "(S:   0) [Order:   0 aA:   0] (S:   0 H:   0 X:   0 x:   0 r:   0 aA:   0) [Order:   0 aA:   0] (S:   0 H:   0 X:   0 x:   0 r:   0 aA:   0)"
      ]
     },
     "execution_count": 20,
     "metadata": {},
     "output_type": "execute_result"
    }
   ],
   "source": [
    "x ^ y"
   ]
  },
  {
   "cell_type": "markdown",
   "metadata": {},
   "source": [
    "### Patterns with multiple bits"
   ]
  },
  {
   "cell_type": "markdown",
   "metadata": {},
   "source": [
    "Since `a` is unbounded in H (any H value is accepted), we see that it contains an unbounded number of bits"
   ]
  },
  {
   "cell_type": "code",
   "execution_count": 21,
   "metadata": {},
   "outputs": [
    {
     "data": {
      "text/plain": [
       "inf"
      ]
     },
     "execution_count": 21,
     "metadata": {},
     "output_type": "execute_result"
    }
   ],
   "source": [
    "a = offsb.chem.types.AngleGraph.from_smarts(\"[#6X4x0!r+0A]-;!@[#6H3X4x0!r+0A]-;!@[#1]\")\n",
    "a.bits()"
   ]
  },
  {
   "cell_type": "markdown",
   "metadata": {},
   "source": [
    "All fields have a default `maxbits` set, so we know roughly how many bits in each field are actually useful. Here, for H, `maxbits=5`, corresponding to H0-H4."
   ]
  },
  {
   "cell_type": "code",
   "execution_count": 22,
   "metadata": {},
   "outputs": [
    {
     "data": {
      "text/plain": [
       "21"
      ]
     },
     "execution_count": 22,
     "metadata": {},
     "output_type": "execute_result"
    }
   ],
   "source": [
    "a.bits(maxbits=True)"
   ]
  },
  {
   "cell_type": "code",
   "execution_count": 23,
   "metadata": {},
   "outputs": [
    {
     "name": "stdout",
     "output_type": "stream",
     "text": [
      "(S:  1000000 H: ~ 0 X:  10000 x:   1 r:   1 aA:   1) [Order:  10 aA:   1] (S:  1000000 H:  1000 X:  10000 x:   1 r:   1 aA:   1) [Order:  10 aA:   1] (S:  10)\n",
      "(S:  10) [Order:  10 aA:   1] (S:  1000000 H:  1000 X:  10000 x:   1 r:   1 aA:   1) [Order:  10 aA:   1] (S:  1000000 H:  10 X:  10000 x:   1 r:   1 aA:   1)\n"
     ]
    }
   ],
   "source": [
    "print(a)\n",
    "print(x)"
   ]
  },
  {
   "cell_type": "code",
   "execution_count": 24,
   "metadata": {},
   "outputs": [
    {
     "name": "stdout",
     "output_type": "stream",
     "text": [
      "(S:  1000000 H: ~ 0 X:  10000 x:   1 r:   1 aA:   1) [Order:  10 aA:   1] (S:  1000000 H:  1000 X:  10000 x:   1 r:   1 aA:   1) [Order:  10 aA:   1] (S:  10)\n",
      "(S:  1000000 H:  10 X:  10000 x:   1 r:   1 aA:   1) [Order:  10 aA:   1] (S:  1000000 H:  1000 X:  10000 x:   1 r:   1 aA:   1) [Order:  10 aA:   1] (S:  10)\n"
     ]
    }
   ],
   "source": [
    "x.align_to(a)\n",
    "print(a)\n",
    "print(x)"
   ]
  },
  {
   "cell_type": "code",
   "execution_count": 25,
   "metadata": {},
   "outputs": [
    {
     "data": {
      "text/plain": [
       "(S:   0 H: ~10 X:   0 x:   0 r:   0 aA:   0) [Order:   0 aA:   0] (S:   0 H:   0 X:   0 x:   0 r:   0 aA:   0) [Order:   0 aA:   0] (S:   0)"
      ]
     },
     "execution_count": 25,
     "metadata": {},
     "output_type": "execute_result"
    }
   ],
   "source": [
    "a - x"
   ]
  },
  {
   "cell_type": "markdown",
   "metadata": {},
   "source": [
    "The `~10` means it inverts the pattern, so instead of `...0000000010`, with infinite leading zeros, it has infinite leading 1s: `...111111101`.\n",
    "This means `a` has info beyond `x` on all H values except H1."
   ]
  },
  {
   "cell_type": "markdown",
   "metadata": {},
   "source": [
    "This shows that bits can be directly accessed. Since `~0` signifies an unbounded bit vector, we see that accessing the 4th bit returns `True`"
   ]
  },
  {
   "cell_type": "code",
   "execution_count": 26,
   "metadata": {},
   "outputs": [
    {
     "data": {
      "text/plain": [
       "True"
      ]
     },
     "execution_count": 26,
     "metadata": {},
     "output_type": "execute_result"
    }
   ],
   "source": [
    "c = a.copy()\n",
    "c._atom1._H[3]"
   ]
  },
  {
   "cell_type": "markdown",
   "metadata": {},
   "source": [
    "Slices also work"
   ]
  },
  {
   "cell_type": "code",
   "execution_count": 27,
   "metadata": {},
   "outputs": [
    {
     "data": {
      "text/plain": [
       "array([ True,  True,  True,  True,  True,  True])"
      ]
     },
     "execution_count": 27,
     "metadata": {},
     "output_type": "execute_result"
    }
   ],
   "source": [
    "c._atom1._H[:6]"
   ]
  },
  {
   "cell_type": "markdown",
   "metadata": {},
   "source": [
    "as do assignments"
   ]
  },
  {
   "cell_type": "code",
   "execution_count": 28,
   "metadata": {},
   "outputs": [
    {
     "data": {
      "text/plain": [
       "(S:  1000000 H: ~1100 X:  10000 x:   1 r:   1 aA:   1) [Order:  10 aA:   1] (S:  1000000 H:  1000 X:  10000 x:   1 r:   1 aA:   1) [Order:  10 aA:   1] (S:  10 H:   0 X:   0 x:   0 r:   0 aA:   0)"
      ]
     },
     "execution_count": 28,
     "metadata": {},
     "output_type": "execute_result"
    }
   ],
   "source": [
    "c._atom1._H[2:4] = False ; c"
   ]
  },
  {
   "cell_type": "markdown",
   "metadata": {},
   "source": [
    "We can also indicate the behavior of the leading bit by using an unbounded slice."
   ]
  },
  {
   "cell_type": "code",
   "execution_count": 29,
   "metadata": {},
   "outputs": [
    {
     "data": {
      "text/plain": [
       "(S:  1000000 H:  10011 X:  10000 x:   1 r:   1 aA:   1) [Order:  10 aA:   1] (S:  1000000 H:  1000 X:  10000 x:   1 r:   1 aA:   1) [Order:  10 aA:   1] (S:  10 H:   0 X:   0 x:   0 r:   0 aA:   0)"
      ]
     },
     "execution_count": 29,
     "metadata": {},
     "output_type": "execute_result"
    }
   ],
   "source": [
    "c._atom1._H[5:] = False ; c"
   ]
  },
  {
   "cell_type": "markdown",
   "metadata": {},
   "source": [
    "There should never be index errors, as the vectors will automatically grow to fit the desired length. These are explicit bit vectors, so all values are stored up until the point where we know the unbounded value"
   ]
  },
  {
   "cell_type": "code",
   "execution_count": 30,
   "metadata": {},
   "outputs": [
    {
     "name": "stdout",
     "output_type": "stream",
     "text": [
      "  0 False False\n",
      " 10000000000000000000000000000000000000000000000000000000000000000000000000000000000000000000000000000 True False\n",
      "~10000000000000000000000000000000000000000000000000000000000000000000000000000000000000000000000000000 True False\n",
      "~10000000000000000000000000000000000000000000000000000000000000000000000000000000000000000000000000000 True False\n",
      "~10000000000000000000000000000000000000000000000000000000000000000000000010101010101010101010000000000 True False\n",
      " 1111111111101010101010101010101111111111 True False\n",
      "~ 0 True True\n"
     ]
    }
   ],
   "source": [
    "bv = offsb.chem.types.BitVec()\n",
    "print(bv, bv.any(), bv.all())\n",
    "\n",
    "bv[100] = True\n",
    "print(bv, bv.any(), bv.all())\n",
    "\n",
    "bv = ~bv\n",
    "print(bv, bv.any(), bv.all())\n",
    "\n",
    "bv[10] = True\n",
    "print(bv, bv.any(), bv.all())\n",
    "\n",
    "bv[10:30:2] = False\n",
    "print(bv, bv.any(), bv.all())\n",
    "\n",
    "bv[40:] = False\n",
    "print(bv, bv.any(), bv.all())\n",
    "\n",
    "bv[:] = True\n",
    "print(bv, bv.any(), bv.all())"
   ]
  },
  {
   "cell_type": "markdown",
   "metadata": {},
   "source": [
    "Iterating the bits will always use `maxbits`, meaning that it will not try to iterate unbounded fields. Below we see that, since `maxbits` on H is 5 (H0-H4), we get 21 unique bits total, just as above."
   ]
  },
  {
   "cell_type": "code",
   "execution_count": 31,
   "metadata": {},
   "outputs": [
    {
     "data": {
      "text/plain": [
       "21"
      ]
     },
     "execution_count": 31,
     "metadata": {},
     "output_type": "execute_result"
    }
   ],
   "source": [
    "bits = [bit for bit in a]\n",
    "len(bits)"
   ]
  },
  {
   "cell_type": "code",
   "execution_count": 32,
   "metadata": {},
   "outputs": [
    {
     "data": {
      "text/plain": [
       "True"
      ]
     },
     "execution_count": 32,
     "metadata": {},
     "output_type": "execute_result"
    }
   ],
   "source": [
    "all([bit in a for bit in a])"
   ]
  },
  {
   "cell_type": "code",
   "execution_count": 33,
   "metadata": {},
   "outputs": [
    {
     "data": {
      "text/plain": [
       "(S:  1000000 H:  11111 X:  10000 x:   1 r:   1 aA:   1) [Order:  10 aA:   1] (S:  1000000 H:  1000 X:  10000 x:   1 r:   1 aA:   1) [Order:  10 aA:   1] (S:  10)"
      ]
     },
     "execution_count": 33,
     "metadata": {},
     "output_type": "execute_result"
    }
   ],
   "source": [
    "b = reduce(lambda p,q: p+q, a) ; b"
   ]
  },
  {
   "cell_type": "code",
   "execution_count": 34,
   "metadata": {},
   "outputs": [
    {
     "data": {
      "text/plain": [
       "False"
      ]
     },
     "execution_count": 34,
     "metadata": {},
     "output_type": "execute_result"
    }
   ],
   "source": [
    "a in b"
   ]
  },
  {
   "cell_type": "code",
   "execution_count": 35,
   "metadata": {},
   "outputs": [
    {
     "data": {
      "text/plain": [
       "True"
      ]
     },
     "execution_count": 35,
     "metadata": {},
     "output_type": "execute_result"
    }
   ],
   "source": [
    "b in a"
   ]
  },
  {
   "cell_type": "code",
   "execution_count": 36,
   "metadata": {},
   "outputs": [
    {
     "data": {
      "text/plain": [
       "'[#6;H0,H1,H2,H3,H4;X4;x0;!r;A:1]-;!@[#6;H3;X4;x0;!r;A:2]-;!@[#1:3]'"
      ]
     },
     "execution_count": 36,
     "metadata": {},
     "output_type": "execute_result"
    }
   ],
   "source": [
    "b.to_smarts()"
   ]
  },
  {
   "cell_type": "code",
   "execution_count": 37,
   "metadata": {},
   "outputs": [
    {
     "data": {
      "text/plain": [
       "'[#6;X4;x0;!r;A:1]-;!@[#6;H3;X4;x0;!r;A:2]-;!@[#1:3]'"
      ]
     },
     "execution_count": 37,
     "metadata": {},
     "output_type": "execute_result"
    }
   ],
   "source": [
    "a.to_smarts()"
   ]
  },
  {
   "cell_type": "markdown",
   "metadata": {},
   "source": [
    "We see `b` is a subset of `a` since the bit enumeration uses a cutoff in the H field, since it is unbounded in `a`"
   ]
  },
  {
   "cell_type": "code",
   "execution_count": 38,
   "metadata": {},
   "outputs": [],
   "source": [
    "for i, primitive in enumerate(a.to_primitives()):\n",
    "    print(f\"{i+1:2d}\", primitive.to_smarts())"
   ]
  },
  {
   "cell_type": "markdown",
   "metadata": {},
   "source": [
    "### Here is an example of how to use Tanimoto scores to see similarity between parameters"
   ]
  },
  {
   "cell_type": "code",
   "execution_count": 39,
   "metadata": {},
   "outputs": [],
   "source": [
    "def tanimoto(x, y):\n",
    "    x = x.copy()\n",
    "    x.align_to(y)\n",
    "    A = x.bits()\n",
    "    B = y.bits()\n",
    "    C = (x & y).bits()\n",
    "    return A, B, C, C / (A + B - C)"
   ]
  },
  {
   "cell_type": "code",
   "execution_count": 40,
   "metadata": {},
   "outputs": [
    {
     "data": {
      "text/plain": [
       "(17, 17, 17, 1.0)"
      ]
     },
     "execution_count": 40,
     "metadata": {},
     "output_type": "execute_result"
    }
   ],
   "source": [
    "tanimoto(x,y)"
   ]
  },
  {
   "cell_type": "code",
   "execution_count": 41,
   "metadata": {},
   "outputs": [
    {
     "data": {
      "text/plain": [
       "(24, 17, 17, 0.7083333333333334)"
      ]
     },
     "execution_count": 41,
     "metadata": {},
     "output_type": "execute_result"
    }
   ],
   "source": [
    "tanimoto(xy,x)"
   ]
  },
  {
   "cell_type": "code",
   "execution_count": 42,
   "metadata": {},
   "outputs": [
    {
     "data": {
      "text/plain": [
       "(24, inf, 17, 0.0)"
      ]
     },
     "execution_count": 42,
     "metadata": {},
     "output_type": "execute_result"
    }
   ],
   "source": [
    "tanimoto(xy,a)"
   ]
  },
  {
   "cell_type": "code",
   "execution_count": 43,
   "metadata": {},
   "outputs": [
    {
     "data": {
      "text/plain": [
       "(24, 21, 17, 0.6071428571428571)"
      ]
     },
     "execution_count": 43,
     "metadata": {},
     "output_type": "execute_result"
    }
   ],
   "source": [
    "tanimoto(xy,b)"
   ]
  }
 ],
 "metadata": {
  "kernelspec": {
   "display_name": "Python 3",
   "language": "python",
   "name": "python3"
  },
  "language_info": {
   "codemirror_mode": {
    "name": "ipython",
    "version": 3
   },
   "file_extension": ".py",
   "mimetype": "text/x-python",
   "name": "python",
   "nbconvert_exporter": "python",
   "pygments_lexer": "ipython3",
   "version": "3.7.8"
  }
 },
 "nbformat": 4,
 "nbformat_minor": 4
}
